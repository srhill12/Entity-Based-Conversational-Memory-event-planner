{
 "cells": [
  {
   "cell_type": "code",
   "execution_count": 27,
   "metadata": {},
   "outputs": [],
   "source": [
    "# Imports for loading environment variables.\n",
    "from dotenv import load_dotenv\n",
    "import os"
   ]
  },
  {
   "cell_type": "code",
   "execution_count": 28,
   "metadata": {},
   "outputs": [],
   "source": [
    "# Load environment variables.\n",
    "load_dotenv()\n",
    "\n",
    "# Set the model name for the LLMs.\n",
    "OPENAI_MODEL = \"gpt-3.5-turbo\"\n",
    "# Store the API key in a variable.\n",
    "OPENAI_API_KEY = os.getenv(\"OPENAI_API_KEY\")"
   ]
  },
  {
   "cell_type": "code",
   "execution_count": 29,
   "metadata": {},
   "outputs": [],
   "source": [
    "# Additional imports for entity-based memory.\n",
    "from langchain_openai import ChatOpenAI\n",
    "from langchain.chains import ConversationChain\n",
    "from langchain.memory import ConversationEntityMemory\n",
    "from langchain.memory.prompt import ENTITY_MEMORY_CONVERSATION_TEMPLATE"
   ]
  },
  {
   "cell_type": "code",
   "execution_count": 30,
   "metadata": {},
   "outputs": [],
   "source": [
    "# Initialize the model.\n",
    "llm = ChatOpenAI(openai_api_key=OPENAI_API_KEY, model_name=OPENAI_MODEL, temperature=0.0)"
   ]
  },
  {
   "cell_type": "code",
   "execution_count": 31,
   "metadata": {},
   "outputs": [],
   "source": [
    "# Initialize an object for conversational memory.\n",
    "buffer = ConversationEntityMemory(llm=llm)"
   ]
  },
  {
   "cell_type": "code",
   "execution_count": 32,
   "metadata": {},
   "outputs": [],
   "source": [
    "# Create the chain for conversation, using a ConversationBufferMemory object.\n",
    "conversation = ConversationChain(\n",
    "    llm=llm, \n",
    "    memory=buffer, \n",
    "    #verbose=True, \n",
    "    prompt=ENTITY_MEMORY_CONVERSATION_TEMPLATE\n",
    ")"
   ]
  },
  {
   "cell_type": "code",
   "execution_count": 33,
   "metadata": {},
   "outputs": [],
   "source": [
    "# Prompt the user for their name.\n",
    "name = input(\"What is your name?\")\n",
    "# Prompt the user for a description of their likes and dislikes.\n",
    "description = input(\"Please describe your likes and dislikes.\")"
   ]
  },
  {
   "cell_type": "code",
   "execution_count": 34,
   "metadata": {},
   "outputs": [
    {
     "data": {
      "text/plain": [
       "{'input': 'My name is bobby and I will be organizing an activity and attending. I like pizza and dislike hotdogs',\n",
       " 'history': '',\n",
       " 'entities': {'bobby': ''},\n",
       " 'response': \"That's great to know, Bobby! Organizing an activity sounds like a fun task. Pizza is always a popular choice, and it's good to know your food preferences. If you need any help or suggestions for your activity, feel free to ask!\"}"
      ]
     },
     "execution_count": 34,
     "metadata": {},
     "output_type": "execute_result"
    }
   ],
   "source": [
    "# Create the query and run the chain with it.\n",
    "query = f\"My name is {name} and I will be organizing an activity and attending. {description}\"\n",
    "conversation.invoke(input=query)"
   ]
  },
  {
   "cell_type": "code",
   "execution_count": 35,
   "metadata": {},
   "outputs": [],
   "source": [
    "# Prompt the user for the number of other people.\n",
    "n_people = int(input(\"How many other people do you want to plan the activity for?\"))"
   ]
  },
  {
   "cell_type": "code",
   "execution_count": 36,
   "metadata": {},
   "outputs": [],
   "source": [
    "# Loop for each other person.\n",
    "for i in range(n_people):\n",
    "    # Prompt the user for the attendee's name.\n",
    "    name = input(\"What is this attendee's name?\")\n",
    "    # Prompt the user for the attendee's likes and dislikes.\n",
    "    description = input(f\"Please describe {name}'s likes and dislikes.\")\n",
    "\n",
    "    # Construct a query for this attendee and run the chain.\n",
    "    query = f\"{name} will be attending. {description}\"\n",
    "    conversation.run(input=query)"
   ]
  },
  {
   "cell_type": "code",
   "execution_count": 37,
   "metadata": {},
   "outputs": [],
   "source": [
    "# Define a final query as a string.\n",
    "query = \"What would be a good activity to plan for all the people mentioned?\""
   ]
  },
  {
   "cell_type": "code",
   "execution_count": 38,
   "metadata": {},
   "outputs": [
    {
     "name": "stdout",
     "output_type": "stream",
     "text": [
      "A good activity that could cater to everyone mentioned could be a casual sports day with a mix of volleyball and other sports like soccer or frisbee. This way, Bobby and Ruby can enjoy playing volleyball, while others can participate in different sports based on their preferences. It's a fun and inclusive way to engage everyone and ensure that there's something for everyone to enjoy. If you need more ideas or suggestions, feel free to ask!\n"
     ]
    }
   ],
   "source": [
    "\n",
    "# Pass the query to the predict method which will make a prediction based on the query, and print the result.\n",
    "result = conversation.predict(input=query)\n",
    "print(result, end='\\n')"
   ]
  }
 ],
 "metadata": {
  "kernelspec": {
   "display_name": "Python 3",
   "language": "python",
   "name": "python3"
  },
  "language_info": {
   "codemirror_mode": {
    "name": "ipython",
    "version": 3
   },
   "file_extension": ".py",
   "mimetype": "text/x-python",
   "name": "python",
   "nbconvert_exporter": "python",
   "pygments_lexer": "ipython3",
   "version": "3.10.13"
  }
 },
 "nbformat": 4,
 "nbformat_minor": 2
}
